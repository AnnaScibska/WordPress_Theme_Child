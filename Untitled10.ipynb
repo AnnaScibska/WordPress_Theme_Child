{
  "nbformat": 4,
  "nbformat_minor": 0,
  "metadata": {
    "colab": {
      "name": "Untitled10.ipynb",
      "provenance": [],
      "collapsed_sections": [],
      "authorship_tag": "ABX9TyO1yrt16w1V5gemkAdIhKCn",
      "include_colab_link": true
    },
    "kernelspec": {
      "name": "python3",
      "display_name": "Python 3"
    }
  },
  "cells": [
    {
      "cell_type": "markdown",
      "metadata": {
        "id": "view-in-github",
        "colab_type": "text"
      },
      "source": [
        "<a href=\"https://colab.research.google.com/github/AnnaScibska/WordPress_Theme_Child/blob/master/Untitled10.ipynb\" target=\"_parent\"><img src=\"https://colab.research.google.com/assets/colab-badge.svg\" alt=\"Open In Colab\"/></a>"
      ]
    },
    {
      "cell_type": "code",
      "metadata": {
        "id": "9pLUlemg8bmW",
        "colab_type": "code",
        "outputId": "1dbc04d6-a7ee-464b-dc81-c585a6abd154",
        "colab": {
          "base_uri": "https://localhost:8080/",
          "height": 84
        }
      },
      "source": [
        "import tensorflow as tf\n",
        "import numpy as np\n",
        "from tensorflow import keras\n",
        "\n",
        "class_names = ['FizzBuzz', 'Buzz', 'Fizz', 'Number']\n",
        "\n",
        "def fizzBuzz(start, stop):\n",
        "    myResult = []\n",
        "    for x in range(start, stop):\n",
        "      if ((not (x%5) and (not x%3))):\n",
        "        myResult.append(1) # 'FizzBuzz' / 3 & 5\n",
        "      elif (not x%5):\n",
        "        myResult.append(2) # 'Buzz' / 5\n",
        "      elif (not x%3):\n",
        "        myResult.append(3) # 'Fizz' / 3\n",
        "      else:\n",
        "        myResult.append(0) # 'Number'\n",
        "    return myResult\n",
        "    \n",
        "train_numbers = np.array([float(i) for i in range(1, 1001)])\n",
        "train_labels = np.array(fizzBuzz(1, 1001))\n",
        "\n",
        "# test_numbers = np.array([3.0, 4.0, 5.0, 11.0, 15.0, 50.0, 60.0, 61.0, 99.0, 100.0])\n",
        "# test_labels = np.array([3, 0, 2, 0, 1, 2, 1, 0, 3, 2])\n",
        "\n",
        "test_numbers = np.array([float(i) for i in range(21, 121)])\n",
        "test_labels = np.array(fizzBuzz(21, 121))\n",
        "\n",
        "print(train_numbers[0])\n",
        "print(train_labels[0])\n",
        "\n",
        "print(test_numbers[0])\n",
        "print(test_labels[0])"
      ],
      "execution_count": 0,
      "outputs": [
        {
          "output_type": "stream",
          "text": [
            "1.0\n",
            "0\n",
            "21.0\n",
            "3\n"
          ],
          "name": "stdout"
        }
      ]
    },
    {
      "cell_type": "code",
      "metadata": {
        "id": "e31DaBOI-UHP",
        "colab_type": "code",
        "colab": {}
      },
      "source": [
        "train_numbers = train_numbers / 1000.0\n",
        "test_numbers = test_numbers / 1000.0"
      ],
      "execution_count": 0,
      "outputs": []
    },
    {
      "cell_type": "code",
      "metadata": {
        "id": "j_8cpl0DXWoc",
        "colab_type": "code",
        "outputId": "27338de5-ae9b-4b97-a150-945b7770e23d",
        "colab": {
          "base_uri": "https://localhost:8080/",
          "height": 84
        }
      },
      "source": [
        "print(train_numbers[0])\n",
        "print(train_labels[0])\n",
        "\n",
        "print(test_numbers[0])\n",
        "print(test_labels[0])"
      ],
      "execution_count": 0,
      "outputs": [
        {
          "output_type": "stream",
          "text": [
            "0.001\n",
            "0\n",
            "0.021\n",
            "3\n"
          ],
          "name": "stdout"
        }
      ]
    },
    {
      "cell_type": "code",
      "metadata": {
        "id": "Sb2Ggv5UFl3b",
        "colab_type": "code",
        "colab": {}
      },
      "source": [
        "model = keras.Sequential([\n",
        "    # keras.layers.Dense(100),                       \n",
        "    # keras.layers.Dense(100, input_shape=(1,)),                 \n",
        "    # keras.layers.Dense(units=1, input_shape=[1]),\n",
        "    # keras.layers.Dense(100, activation='sigmoid'),\n",
        "    keras.layers.Dense(1000, activation='relu'),\n",
        "    keras.layers.Dense(4, activation='softmax')\n",
        "])"
      ],
      "execution_count": 0,
      "outputs": []
    },
    {
      "cell_type": "code",
      "metadata": {
        "id": "BCWXGPaWFLW7",
        "colab_type": "code",
        "colab": {}
      },
      "source": [
        "model.compile(optimizer='adam',\n",
        "              loss='sparse_categorical_crossentropy',\n",
        "              # loss='categorical_crossentropy', # Test accuracy: 0.0\n",
        "              metrics=['accuracy'])"
      ],
      "execution_count": 0,
      "outputs": []
    },
    {
      "cell_type": "code",
      "metadata": {
        "id": "IbrfT2igFTJA",
        "colab_type": "code",
        "outputId": "77ba1260-5cfc-4370-983a-0a449ab13c72",
        "colab": {
          "base_uri": "https://localhost:8080/",
          "height": 386
        }
      },
      "source": [
        "model.fit(train_numbers, train_labels, epochs=10)"
      ],
      "execution_count": 0,
      "outputs": [
        {
          "output_type": "stream",
          "text": [
            "Train on 1000 samples\n",
            "Epoch 1/10\n",
            "1000/1000 [==============================] - 0s 304us/sample - loss: 1.2481 - acc: 0.5240\n",
            "Epoch 2/10\n",
            "1000/1000 [==============================] - 0s 84us/sample - loss: 1.1576 - acc: 0.5330\n",
            "Epoch 3/10\n",
            "1000/1000 [==============================] - 0s 77us/sample - loss: 1.1537 - acc: 0.5330\n",
            "Epoch 4/10\n",
            "1000/1000 [==============================] - 0s 79us/sample - loss: 1.1467 - acc: 0.5330\n",
            "Epoch 5/10\n",
            "1000/1000 [==============================] - 0s 83us/sample - loss: 1.1443 - acc: 0.5330\n",
            "Epoch 6/10\n",
            "1000/1000 [==============================] - 0s 77us/sample - loss: 1.1427 - acc: 0.5330\n",
            "Epoch 7/10\n",
            "1000/1000 [==============================] - 0s 77us/sample - loss: 1.1422 - acc: 0.5330\n",
            "Epoch 8/10\n",
            "1000/1000 [==============================] - 0s 73us/sample - loss: 1.1417 - acc: 0.5330\n",
            "Epoch 9/10\n",
            "1000/1000 [==============================] - 0s 76us/sample - loss: 1.1410 - acc: 0.5330\n",
            "Epoch 10/10\n",
            "1000/1000 [==============================] - 0s 82us/sample - loss: 1.1404 - acc: 0.5330\n"
          ],
          "name": "stdout"
        },
        {
          "output_type": "execute_result",
          "data": {
            "text/plain": [
              "<tensorflow.python.keras.callbacks.History at 0x7ff160e9ea90>"
            ]
          },
          "metadata": {
            "tags": []
          },
          "execution_count": 347
        }
      ]
    },
    {
      "cell_type": "code",
      "metadata": {
        "id": "IKBpJkzmFZlP",
        "colab_type": "code",
        "outputId": "bd03090b-b904-4754-8e7f-4e7f9a3233ef",
        "colab": {
          "base_uri": "https://localhost:8080/",
          "height": 67
        }
      },
      "source": [
        "test_loss, test_acc = model.evaluate(test_numbers, test_labels)\n",
        "print('\\nTest accuracy:', test_acc)"
      ],
      "execution_count": 0,
      "outputs": [
        {
          "output_type": "stream",
          "text": [
            "100/100 [==============================] - 0s 2ms/sample - loss: 1.1451 - acc: 0.5300\n",
            "\n",
            "Test accuracy: 0.53\n"
          ],
          "name": "stdout"
        }
      ]
    },
    {
      "cell_type": "code",
      "metadata": {
        "id": "FCNBsubBJP7Y",
        "colab_type": "code",
        "outputId": "98cd1fce-92f7-4129-e61e-c8d5beabd798",
        "colab": {
          "base_uri": "https://localhost:8080/",
          "height": 50
        }
      },
      "source": [
        "print(model.predict([3]))\n",
        "index = np.argmax(model.predict([3]))\n",
        "class_names[index]"
      ],
      "execution_count": 0,
      "outputs": [
        {
          "output_type": "stream",
          "text": [
            "[[0.4954448  0.02963296 0.14051765 0.3344046 ]]\n"
          ],
          "name": "stdout"
        },
        {
          "output_type": "execute_result",
          "data": {
            "text/plain": [
              "'FizzBuzz'"
            ]
          },
          "metadata": {
            "tags": []
          },
          "execution_count": 349
        }
      ]
    }
  ]
}