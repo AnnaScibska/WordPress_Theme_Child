{
  "nbformat": 4,
  "nbformat_minor": 0,
  "metadata": {
    "colab": {
      "name": "Untitled7.ipynb",
      "provenance": [],
      "collapsed_sections": [],
      "authorship_tag": "ABX9TyPeFzT3jujzoi5zCCdfuDHb",
      "include_colab_link": true
    },
    "kernelspec": {
      "name": "python3",
      "display_name": "Python 3"
    }
  },
  "cells": [
    {
      "cell_type": "markdown",
      "metadata": {
        "id": "view-in-github",
        "colab_type": "text"
      },
      "source": [
        "<a href=\"https://colab.research.google.com/github/AnnaScibska/WordPress_Theme_Child/blob/master/Untitled7.ipynb\" target=\"_parent\"><img src=\"https://colab.research.google.com/assets/colab-badge.svg\" alt=\"Open In Colab\"/></a>"
      ]
    },
    {
      "cell_type": "code",
      "metadata": {
        "id": "cVJ9Rjqco_T1",
        "colab_type": "code",
        "outputId": "9ac12db5-7d46-4e97-c3f4-99b7379b860d",
        "colab": {
          "base_uri": "https://localhost:8080/",
          "height": 252
        }
      },
      "source": [
        "import tensorflow as tf\n",
        "import numpy as np\n",
        "from tensorflow import keras\n",
        "\n",
        "from ast import literal_eval\n",
        "\n",
        "model = tf.keras.Sequential()\n",
        "model.add(keras.layers.Dense(units=1, input_shape=[1]))\n",
        "model.compile(optimizer=\"sgd\", loss=\"mean_squared_error\")\n",
        "\n",
        "def fizzBuzz():\n",
        "    myResult = []\n",
        "    for x in range(1, 101):\n",
        "      if ((not (x%5) and (not x%3))):\n",
        "        myResult.append(float(literal_eval(''.join(format(ord(i), 'b') for i in 'FizzBuzz'))))\n",
        "      elif (not x%5):\n",
        "        myResult.append(float(literal_eval(''.join(format(ord(i), 'b') for i in 'Buzz'))))\n",
        "      elif (not x%3):\n",
        "        myResult.append(float(literal_eval(''.join(format(ord(i), 'b') for i in 'Fizz'))))\n",
        "      else:\n",
        "        myResult.append(float(literal_eval(''.join(format(ord(i), 'b') for i in str(x))))) # change it to 'Number' (4 classes fizzbuzz, fizz, buzz, number)\n",
        "    return myResult\n",
        "    \n",
        "xs = np.array([float(i) for i in range(1, 101)], dtype='float64')\n",
        "ys = np.array(fizzBuzz(), dtype='float64')\n",
        "\n",
        "print(xs[3])\n",
        "print(ys[3])\n",
        "\n",
        "model.fit(xs,ys, epochs=5)\n",
        "print(model.predict([150]))"
      ],
      "execution_count": 0,
      "outputs": [
        {
          "output_type": "stream",
          "text": [
            "4.0\n",
            "1.001110111010111e+41\n",
            "Train on 100 samples\n",
            "Epoch 1/5\n",
            "100/100 [==============================] - 0s 1ms/sample - loss: nan\n",
            "Epoch 2/5\n",
            "100/100 [==============================] - 0s 68us/sample - loss: nan\n",
            "Epoch 3/5\n",
            "100/100 [==============================] - 0s 80us/sample - loss: nan\n",
            "Epoch 4/5\n",
            "100/100 [==============================] - 0s 65us/sample - loss: nan\n",
            "Epoch 5/5\n",
            "100/100 [==============================] - 0s 70us/sample - loss: nan\n",
            "[[nan]]\n"
          ],
          "name": "stdout"
        }
      ]
    },
    {
      "cell_type": "code",
      "metadata": {
        "id": "BFgGbY_1oMrI",
        "colab_type": "code",
        "outputId": "c5282934-8bd3-4754-cc50-306457e661b4",
        "colab": {
          "base_uri": "https://localhost:8080/",
          "height": 34
        }
      },
      "source": [
        "xs.dtype"
      ],
      "execution_count": 0,
      "outputs": [
        {
          "output_type": "execute_result",
          "data": {
            "text/plain": [
              "dtype('float64')"
            ]
          },
          "metadata": {
            "tags": []
          },
          "execution_count": 12
        }
      ]
    },
    {
      "cell_type": "code",
      "metadata": {
        "id": "P3u7thH1oGaz",
        "colab_type": "code",
        "outputId": "18e466df-337d-4e68-8b6f-cf9d6d016f48",
        "colab": {
          "base_uri": "https://localhost:8080/",
          "height": 34
        }
      },
      "source": [
        "ys.dtype"
      ],
      "execution_count": 0,
      "outputs": [
        {
          "output_type": "execute_result",
          "data": {
            "text/plain": [
              "dtype('float64')"
            ]
          },
          "metadata": {
            "tags": []
          },
          "execution_count": 13
        }
      ]
    },
    {
      "cell_type": "code",
      "metadata": {
        "id": "HFwoj75EnrOt",
        "colab_type": "code",
        "colab": {}
      },
      "source": [
        "mnist = tf.keras.datasets.fashion_mnist\n",
        "(training_images, training_labels) ,  (test_images, test_labels) = mnist.load_data()\n",
        "training_images = training_images/255.0\n",
        "test_images = test_images/255.0\n",
        "model = tf.keras.models.Sequential([tf.keras.layers.Flatten(),\n",
        "                                    tf.keras.layers.Dense(128, activation=tf.nn.relu),\n",
        "                                    tf.keras.layers.Dense(10, activation=tf.nn.softmax)])\n",
        "model.compile(optimizer = 'adam',\n",
        "              loss = 'sparse_categorical_crossentropy', metrics=['accuracy'])\n",
        "model.fit(training_images, training_labels, epochs=5)\n",
        "model.evaluate(test_images, test_labels)\n",
        "classifications = model.predict(test_images)\n",
        "print(classifications[0])\n",
        "print(test_labels[0])"
      ],
      "execution_count": 0,
      "outputs": []
    }
  ]
}